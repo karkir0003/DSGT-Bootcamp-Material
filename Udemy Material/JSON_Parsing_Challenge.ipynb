{
  "nbformat": 4,
  "nbformat_minor": 0,
  "metadata": {
    "colab": {
      "name": "JSON_Parsing_Challenge.ipynb",
      "provenance": [],
      "collapsed_sections": []
    },
    "kernelspec": {
      "name": "python3",
      "display_name": "Python 3"
    },
    "language_info": {
      "name": "python"
    }
  },
  "cells": [
    {
      "cell_type": "markdown",
      "metadata": {
        "id": "H0ADIMOSKMUb"
      },
      "source": [
        "#JSON Parsing Challenges\n",
        "\n",
        "This drill will aim to get you exposed to working with JSON files. JSON is a format that typically contains the data returned from API calls. It's worth getting acclimated to it. "
      ]
    },
    {
      "cell_type": "markdown",
      "metadata": {
        "id": "be8SVefcKkTC"
      },
      "source": [
        "##Setup"
      ]
    },
    {
      "cell_type": "code",
      "metadata": {
        "colab": {
          "base_uri": "https://localhost:8080/"
        },
        "id": "tBh_c-TTKJaw",
        "outputId": "6f8135d7-91ed-47f9-8c68-4549ac37d4ca"
      },
      "source": [
        "from google.colab import drive\n",
        "drive.mount('/content/drive')"
      ],
      "execution_count": 1,
      "outputs": [
        {
          "output_type": "stream",
          "name": "stdout",
          "text": [
            "Drive already mounted at /content/drive; to attempt to forcibly remount, call drive.mount(\"/content/drive\", force_remount=True).\n"
          ]
        }
      ]
    },
    {
      "cell_type": "code",
      "metadata": {
        "colab": {
          "base_uri": "https://localhost:8080/"
        },
        "id": "EfC4flq6KhR6",
        "outputId": "9de4b069-4a9f-4f05-d963-972d39451445"
      },
      "source": [
        "%cd 'drive/MyDrive/JSON Parsing Challenge'"
      ],
      "execution_count": 2,
      "outputs": [
        {
          "output_type": "stream",
          "name": "stdout",
          "text": [
            "/content/drive/MyDrive/JSON Parsing Challenge\n"
          ]
        }
      ]
    },
    {
      "cell_type": "code",
      "metadata": {
        "id": "j4Y4RFfHK-jl"
      },
      "source": [
        "#Key imports\n",
        "import json"
      ],
      "execution_count": 66,
      "outputs": []
    },
    {
      "cell_type": "markdown",
      "metadata": {
        "id": "bk8ybzFFKlik"
      },
      "source": [
        "##Question 1: Cats"
      ]
    },
    {
      "cell_type": "markdown",
      "metadata": {
        "id": "wcpoTT-NAQmN"
      },
      "source": [
        "Implement the function to read the JSON file `cat.json`"
      ]
    },
    {
      "cell_type": "code",
      "metadata": {
        "id": "3r9ub5i0Kv04"
      },
      "source": [
        "def open_cat_json():\n",
        "  \"\"\"\n",
        "  This function seeks to open the file called \n",
        "  \"cat.json\"\n",
        "\n",
        "  Return the JSON object as a dictionary\n",
        "  \"\"\"\n",
        "  f = open('cat.json')\n",
        "  data = json.load(f)\n",
        "  return data\n",
        "  ########## YOUR CODE HERE ##########\n",
        "\n",
        "  raise NotImplementedError(\"Did not implement open_cat_json() function\")\n",
        "\n",
        "  #####################################\n",
        "  # read file\n",
        "  # f = open('cat.json')\n",
        "  # data = json.load(f)\n",
        "  # return data"
      ],
      "execution_count": 75,
      "outputs": []
    },
    {
      "cell_type": "markdown",
      "metadata": {
        "id": "KmfvHSB77jB1"
      },
      "source": [
        "**Question 1:** Add a height and weight to Fluffy. Make sure that the height and weight are both non-negative values. "
      ]
    },
    {
      "cell_type": "code",
      "metadata": {
        "id": "qmuo9wkI6_e2"
      },
      "source": [
        "def add_height_weight():\n",
        "  \"\"\"\n",
        "  Add a height and weight to Fluffy (see the cat.json file)\n",
        "\n",
        "  Return the resulting dictionary after this modification\n",
        "  \"\"\"\n",
        "  # cat = open_cat_json()\n",
        "  # cat[\"height\"] = 1\n",
        "  # cat[\"weight\"] = 1\n",
        "  # print(cat)\n",
        "\n",
        "  ########## YOUR CODE HERE ##########\n",
        "\n",
        "  raise NotImplementedError(\"Did not implement add_height_weight() function\")\n",
        "\n",
        "  #####################################\n"
      ],
      "execution_count": null,
      "outputs": []
    },
    {
      "cell_type": "markdown",
      "metadata": {
        "id": "3c96z2Kv8aT5"
      },
      "source": [
        "**Question 2:**  Among Fluffy's friends, identify the name of the cat with maximum weight. "
      ]
    },
    {
      "cell_type": "code",
      "metadata": {
        "colab": {
          "base_uri": "https://localhost:8080/",
          "height": 35
        },
        "id": "8_INTUs38ncj",
        "outputId": "3ec21f0e-2641-4dc7-b9e5-029764717a0d"
      },
      "source": [
        "def max_weight_friend():\n",
        "  \"\"\"\n",
        "  Among Fluffy's friends, identify the name of the cat with maximum weight.\n",
        "\n",
        "  Assume that weights are non-negative for the sake of simplicity\n",
        "\n",
        "  Return that name \n",
        "  \"\"\"\n",
        "  # cat = open_cat_json()\n",
        "  # fluffy_friends = cat[\"catFriends\"]\n",
        "  # maxWeight = 0\n",
        "  # name = \"\"\n",
        "  # for friend in fluffy_friends:\n",
        "  #   if (friend[\"weight\"] > maxWeight):\n",
        "  #     maxWeight = friend[\"weight\"]\n",
        "  #     name = friend[\"name\"]\n",
        "  # return name\n",
        "\n",
        "  ########## YOUR CODE HERE ##########\n",
        "\n",
        "  raise NotImplementedError(\"Did not implement add_height_weight() function\")\n",
        "\n",
        "  #####################################\n",
        "max_weight_friend()"
      ],
      "execution_count": 79,
      "outputs": [
        {
          "output_type": "execute_result",
          "data": {
            "application/vnd.google.colaboratory.intrinsic+json": {
              "type": "string"
            },
            "text/plain": [
              "'bar'"
            ]
          },
          "metadata": {},
          "execution_count": 79
        }
      ]
    },
    {
      "cell_type": "markdown",
      "metadata": {
        "id": "iIoSZiuh9ZiA"
      },
      "source": [
        "**Question 3:** Suppose we use this json in the context of a Webkinz (a game where you can customize and interact with your favorite stuffed animal). One use case for Webkinz could be that a user wants to create a new cat. Write a function that takes in a cat's name along with a list of activities and a weight. Build a brand new JSON containing this new cat."
      ]
    },
    {
      "cell_type": "code",
      "metadata": {
        "colab": {
          "base_uri": "https://localhost:8080/"
        },
        "id": "wiTwFl3o9ZMB",
        "outputId": "17d6642e-5077-45e4-ad19-0163ffb3ffdf"
      },
      "source": [
        "def create_new_cat(cat_name, activities_list, weight):\n",
        "  \"\"\"\n",
        "  Given a new cat name, activities list, and a weight, \n",
        "  build a JSON containing this information. You must handle cases\n",
        "  where the user passes in null values for these arguments\n",
        "  \"\"\"\n",
        "  ########## YOUR CODE HERE ##########\n",
        "\n",
        "  raise NotImplementedError(\"Did not implement add_height_weight() function\")\n",
        "\n",
        "  #####################################\n",
        "  # new_cat = {\"name\": cat_name, \"activities\": activities_list, \"weight\": weight}\n",
        "  # obj = json.dumps(new_cat)\n",
        "  # return obj\n",
        "create_new_cat(\"Bob\", [\"sleep\"], 3)"
      ],
      "execution_count": 88,
      "outputs": [
        {
          "output_type": "stream",
          "name": "stdout",
          "text": [
            "{\"name\": \"Bob\", \"activities\": [\"sleep\"], \"weight\": 3}\n"
          ]
        }
      ]
    },
    {
      "cell_type": "markdown",
      "metadata": {
        "id": "5Enmm-XP-5S6"
      },
      "source": [
        "**Question 4:** Another use case for Webkinz could be adding a cat friend. Use the JSON outputted from your `create_new_cat()` function to add a cat friend. Return the resulting output. "
      ]
    },
    {
      "cell_type": "code",
      "metadata": {
        "id": "_ACO-wd7_PKI"
      },
      "source": [
        "def add_new_cat_friend(new_cat, friend_list):\n",
        "  \"\"\"\n",
        "  Example of friend list: [{\"name\": \"Sparkle\", \"activities\": [\"reading\", \"eating\"], \"weight\": 9}, \n",
        "                            {\"name\": \"Manny\", \"activities\": [\"skating\", \"hiking\", \"walking\"], \"weight\": 6}]\n",
        "  Friend List is basically a \"list of dictionaries\"\n",
        "\n",
        "  Example of New Cat: {\"name\": \"Bob\", \"activities\": [\"sleep\"], \"weight\": 3}\n",
        "  Example of output: \n",
        "  {\"name\": \"Bob\", \"activities\": [\"sleep\"], \"weight\": 3, \"catFriends\": [{\"name\": \"Sparkle\", \"activities\": [\"reading\", \"eating\"], \"weight\": 9}, \n",
        "                            {\"name\": \"Manny\", \"activities\": [\"skating\", \"hiking\", \"walking\"], \"weight\": 6}]}\n",
        "  \"\"\"\n",
        "  ########## YOUR CODE HERE ##########\n",
        "\n",
        "  raise NotImplementedError(\"Did not implement add_height_weight() function\")\n",
        "\n",
        "  #####################################\n"
      ],
      "execution_count": null,
      "outputs": []
    },
    {
      "cell_type": "markdown",
      "metadata": {
        "id": "gsWEqbfJ_7E7"
      },
      "source": [
        "##Question 2: Cars"
      ]
    },
    {
      "cell_type": "markdown",
      "metadata": {
        "id": "HxwVgJmCAOvg"
      },
      "source": [
        "Implement the function to read the `cars.json` file"
      ]
    },
    {
      "cell_type": "code",
      "metadata": {
        "id": "bxFIQYD2AZnH"
      },
      "source": [
        "def open_car_json():\n",
        "  \"\"\"\n",
        "  This function seeks to open the file called \n",
        "  \"cars.json\"\n",
        "\n",
        "  Return the JSON object as a dictionary\n",
        "  \"\"\"\n",
        "  f = open('cars.json')\n",
        "  data = json.load(f)\n",
        "  return data\n",
        "  ########## YOUR CODE HERE ##########\n",
        "\n",
        "  raise NotImplementedError(\"Did not implement open_cat_json() function\")\n",
        "\n",
        "  #####################################\n",
        "  # read file\n",
        "  # f = open('cat.json')\n",
        "  # data = json.load(f)\n",
        "  # return data\n",
        "open_car_json()"
      ],
      "execution_count": null,
      "outputs": []
    },
    {
      "cell_type": "markdown",
      "metadata": {
        "id": "j0pWF_uSAftY"
      },
      "source": [
        "**Question 5:** Count the number of cars in the JSON file"
      ]
    },
    {
      "cell_type": "code",
      "metadata": {
        "id": "BoCNEQhvAl4y"
      },
      "source": [
        "def count_cars():\n",
        "  \"\"\"\n",
        "  This function aims to count the number of cars in the JSON file\n",
        "\n",
        "  Return the count\n",
        "  \"\"\"\n",
        "  ########## YOUR CODE HERE ##########\n",
        "\n",
        "  raise NotImplementedError(\"Did not implement open_cat_json() function\")\n",
        "\n",
        "  #####################################\n"
      ],
      "execution_count": null,
      "outputs": []
    },
    {
      "cell_type": "markdown",
      "metadata": {
        "id": "3syd5q0hAt7t"
      },
      "source": [
        "**Question 6:** Return a JSON consisting of the number of cars by country. Your JSON file should contain each distinct country mapped to a count"
      ]
    },
    {
      "cell_type": "code",
      "metadata": {
        "id": "-HdwS38bBBq3"
      },
      "source": [
        "def count_by_country():\n",
        "  \"\"\"\n",
        "  Count the number of cars by country\n",
        "\n",
        "  Example return format: \n",
        "  {\"USA\": 50, \"Germany\": 25, \"Italy\": 10}\n",
        "\n",
        "  \"\"\"\n",
        "  ########## YOUR CODE HERE ##########\n",
        "\n",
        "  raise NotImplementedError(\"Did not implement open_cat_json() function\")\n",
        "\n",
        "  #####################################\n"
      ],
      "execution_count": null,
      "outputs": []
    },
    {
      "cell_type": "markdown",
      "metadata": {
        "id": "KSGeSFVrBZ04"
      },
      "source": [
        "**Question 7:** Create a JSON file containing the name and acceleration of the car with the fastest acceleration. "
      ]
    },
    {
      "cell_type": "code",
      "metadata": {
        "id": "i__JUWXqBoLc"
      },
      "source": [
        "def fast_cars_by_year():\n",
        "  \"\"\"\n",
        "  Example Output FORMAT: \n",
        "  {1970: {\"name\": \"dodge challenger\", \"acceleration\": 10}, 1971: {\"name\": \"chevrolet monte carlo\", \"acceleration\": 9.5}, ...}\n",
        "  \"\"\"\n",
        "  ########## YOUR CODE HERE ##########\n",
        "\n",
        "  raise NotImplementedError(\"Did not implement open_cat_json() function\")\n",
        "\n",
        "  #####################################\n"
      ],
      "execution_count": 90,
      "outputs": []
    },
    {
      "cell_type": "markdown",
      "metadata": {
        "id": "QkPx4-wECgpC"
      },
      "source": [
        "**Question 8:** You are out shopping for a car. You don't want a really old, used car for the purpose of reliability and longevity, but you don't want to pay a lot for gasoline. Given a year threshold (eg: cars after 1985) and an MPG threshold (eg: 25 MPG), return a JSON consisting of cars that match the query. Make sure that cars that are made later are shown first (ie: if there is a 2005-11-19 and a 2005-11-21 that satisfy the criteria, your output should have the 2005-11-21 car and its attributes FIRST followed by the 2005-11-19 car and its attributes). Your JSON format should be very like the `cars.json` file you read in, except your output is filtered based on the query. "
      ]
    },
    {
      "cell_type": "code",
      "metadata": {
        "id": "sveedwAiBy2_"
      },
      "source": [
        "def car_search(year, mpg):\n",
        "  \"\"\"\n",
        "  This function simulates a search for a car (kind of like Car Finder or Car Max)\n",
        "\n",
        "  Given a year (ie: you want cars on or after some specified year) and an MPG (you want cars at least that MPG),\n",
        "\n",
        "  output a JSON consisting of cars that meet your criteria. Your JSON should be sorted in descending order by date\n",
        "  \"\"\"\n",
        "\n",
        "  ########## YOUR CODE HERE ##########\n",
        "\n",
        "  raise NotImplementedError(\"Did not implement open_cat_json() function\")\n",
        "\n",
        "  #####################################\n"
      ],
      "execution_count": null,
      "outputs": []
    },
    {
      "cell_type": "markdown",
      "metadata": {
        "id": "v4r3tygHDlLu"
      },
      "source": [
        "##Extra Challenge"
      ]
    },
    {
      "cell_type": "markdown",
      "metadata": {
        "id": "DlPT-qQzDmVP"
      },
      "source": [
        "Take a problem of your interest (eg: sports, cars, stock market, etc). Find an API to scrape some data in the form of a JSON file. From that JSON file, identify something you want to know about that file (level of difficulty should be at least that of the above questions, but you CAN be as creative as you'd like). Implement code to help answer that question. Have fun with this exercise!"
      ]
    },
    {
      "cell_type": "code",
      "metadata": {
        "id": "vZ0SCt9xD_1g"
      },
      "source": [
        "#Put any import statements here"
      ],
      "execution_count": null,
      "outputs": []
    },
    {
      "cell_type": "code",
      "metadata": {
        "id": "HmQl_08PD9G4"
      },
      "source": [
        "def scrape_json():\n",
        "  \"\"\"\n",
        "  API code to get the JSON data\n",
        "  \"\"\""
      ],
      "execution_count": null,
      "outputs": []
    },
    {
      "cell_type": "markdown",
      "metadata": {
        "id": "YG9uuNXBEG5X"
      },
      "source": [
        "In this cell, describe the question you want to answer with your JSON data!"
      ]
    },
    {
      "cell_type": "code",
      "metadata": {
        "id": "Xs3xPXGUEBeL"
      },
      "source": [
        "def answer_question(dataset):\n",
        "  \"\"\"\n",
        "  Code to answer your question of interest\n",
        "  \"\"\""
      ],
      "execution_count": null,
      "outputs": []
    },
    {
      "cell_type": "code",
      "metadata": {
        "id": "LG3NHx8kETcY"
      },
      "source": [
        "def runner():\n",
        "  \"\"\"\n",
        "  Code to run your scraping algorithm + answer your question\n",
        "  \"\"\"\n",
        "  dataset = scrape_json()\n",
        "  answer_question(dataset)"
      ],
      "execution_count": null,
      "outputs": []
    }
  ]
}