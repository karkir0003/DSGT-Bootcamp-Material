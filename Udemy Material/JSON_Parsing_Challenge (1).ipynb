{
  "nbformat": 4,
  "nbformat_minor": 0,
  "metadata": {
    "colab": {
      "name": "JSON_Parsing_Challenge.ipynb",
      "provenance": [],
      "collapsed_sections": []
    },
    "kernelspec": {
      "name": "python3",
      "display_name": "Python 3"
    },
    "language_info": {
      "name": "python"
    }
  },
  "cells": [
    {
      "cell_type": "markdown",
      "metadata": {
        "id": "H0ADIMOSKMUb"
      },
      "source": [
        "#JSON Parsing Challenges\n",
        "\n",
        "This drill will aim to get you exposed to working with JSON files. JSON is a format that typically contains the data returned from API calls. It's worth getting acclimated to it. "
      ]
    },
    {
      "cell_type": "markdown",
      "metadata": {
        "id": "be8SVefcKkTC"
      },
      "source": [
        "##Setup"
      ]
    },
    {
      "cell_type": "code",
      "metadata": {
        "colab": {
          "base_uri": "https://localhost:8080/"
        },
        "id": "tBh_c-TTKJaw",
        "outputId": "7b316589-b817-4a4d-ad00-47e3544d74f4"
      },
      "source": [
        "from google.colab import drive\n",
        "drive.mount('/content/drive')"
      ],
      "execution_count": 1,
      "outputs": [
        {
          "output_type": "stream",
          "name": "stdout",
          "text": [
            "Drive already mounted at /content/drive; to attempt to forcibly remount, call drive.mount(\"/content/drive\", force_remount=True).\n"
          ]
        }
      ]
    },
    {
      "cell_type": "code",
      "metadata": {
        "colab": {
          "base_uri": "https://localhost:8080/"
        },
        "id": "EfC4flq6KhR6",
        "outputId": "3530395d-2603-48ca-b0da-bc38dcab5d5f"
      },
      "source": [
        "%cd 'drive/MyDrive/JSON Parsing Challenge'"
      ],
      "execution_count": 2,
      "outputs": [
        {
          "output_type": "stream",
          "name": "stdout",
          "text": [
            "/content/drive/MyDrive/JSON Parsing Challenge\n"
          ]
        }
      ]
    },
    {
      "cell_type": "code",
      "metadata": {
        "id": "WFDrJHB1OtJV"
      },
      "source": [
        "import ipytest\n",
        "ipytest.autoconfig()"
      ],
      "execution_count": 3,
      "outputs": []
    },
    {
      "cell_type": "code",
      "metadata": {
        "colab": {
          "base_uri": "https://localhost:8080/"
        },
        "id": "X6TGRbdwM6dO",
        "outputId": "af4a01e6-e09f-4a43-debc-0c8acb1afbcd"
      },
      "source": [
        "!pip install pytest #unit testing framework\n",
        "!pip install -U ipytest"
      ],
      "execution_count": 4,
      "outputs": [
        {
          "output_type": "stream",
          "name": "stdout",
          "text": [
            "Requirement already satisfied: pytest in /usr/local/lib/python3.7/dist-packages (6.2.5)\n",
            "Requirement already satisfied: attrs>=19.2.0 in /usr/local/lib/python3.7/dist-packages (from pytest) (21.2.0)\n",
            "Requirement already satisfied: toml in /usr/local/lib/python3.7/dist-packages (from pytest) (0.10.2)\n",
            "Requirement already satisfied: iniconfig in /usr/local/lib/python3.7/dist-packages (from pytest) (1.1.1)\n",
            "Requirement already satisfied: py>=1.8.2 in /usr/local/lib/python3.7/dist-packages (from pytest) (1.11.0)\n",
            "Requirement already satisfied: importlib-metadata>=0.12 in /usr/local/lib/python3.7/dist-packages (from pytest) (4.8.2)\n",
            "Requirement already satisfied: packaging in /usr/local/lib/python3.7/dist-packages (from pytest) (21.3)\n",
            "Requirement already satisfied: pluggy<2.0,>=0.12 in /usr/local/lib/python3.7/dist-packages (from pytest) (1.0.0)\n",
            "Requirement already satisfied: typing-extensions>=3.6.4 in /usr/local/lib/python3.7/dist-packages (from importlib-metadata>=0.12->pytest) (3.10.0.2)\n",
            "Requirement already satisfied: zipp>=0.5 in /usr/local/lib/python3.7/dist-packages (from importlib-metadata>=0.12->pytest) (3.6.0)\n",
            "Requirement already satisfied: pyparsing!=3.0.5,>=2.0.2 in /usr/local/lib/python3.7/dist-packages (from packaging->pytest) (3.0.6)\n",
            "Requirement already satisfied: ipytest in /usr/local/lib/python3.7/dist-packages (0.11.0)\n",
            "Requirement already satisfied: pytest>=5.4 in /usr/local/lib/python3.7/dist-packages (from ipytest) (6.2.5)\n",
            "Requirement already satisfied: packaging in /usr/local/lib/python3.7/dist-packages (from ipytest) (21.3)\n",
            "Requirement already satisfied: ipython in /usr/local/lib/python3.7/dist-packages (from ipytest) (5.5.0)\n",
            "Requirement already satisfied: iniconfig in /usr/local/lib/python3.7/dist-packages (from pytest>=5.4->ipytest) (1.1.1)\n",
            "Requirement already satisfied: attrs>=19.2.0 in /usr/local/lib/python3.7/dist-packages (from pytest>=5.4->ipytest) (21.2.0)\n",
            "Requirement already satisfied: py>=1.8.2 in /usr/local/lib/python3.7/dist-packages (from pytest>=5.4->ipytest) (1.11.0)\n",
            "Requirement already satisfied: toml in /usr/local/lib/python3.7/dist-packages (from pytest>=5.4->ipytest) (0.10.2)\n",
            "Requirement already satisfied: importlib-metadata>=0.12 in /usr/local/lib/python3.7/dist-packages (from pytest>=5.4->ipytest) (4.8.2)\n",
            "Requirement already satisfied: pluggy<2.0,>=0.12 in /usr/local/lib/python3.7/dist-packages (from pytest>=5.4->ipytest) (1.0.0)\n",
            "Requirement already satisfied: typing-extensions>=3.6.4 in /usr/local/lib/python3.7/dist-packages (from importlib-metadata>=0.12->pytest>=5.4->ipytest) (3.10.0.2)\n",
            "Requirement already satisfied: zipp>=0.5 in /usr/local/lib/python3.7/dist-packages (from importlib-metadata>=0.12->pytest>=5.4->ipytest) (3.6.0)\n",
            "Requirement already satisfied: decorator in /usr/local/lib/python3.7/dist-packages (from ipython->ipytest) (4.4.2)\n",
            "Requirement already satisfied: pygments in /usr/local/lib/python3.7/dist-packages (from ipython->ipytest) (2.6.1)\n",
            "Requirement already satisfied: simplegeneric>0.8 in /usr/local/lib/python3.7/dist-packages (from ipython->ipytest) (0.8.1)\n",
            "Requirement already satisfied: prompt-toolkit<2.0.0,>=1.0.4 in /usr/local/lib/python3.7/dist-packages (from ipython->ipytest) (1.0.18)\n",
            "Requirement already satisfied: setuptools>=18.5 in /usr/local/lib/python3.7/dist-packages (from ipython->ipytest) (57.4.0)\n",
            "Requirement already satisfied: traitlets>=4.2 in /usr/local/lib/python3.7/dist-packages (from ipython->ipytest) (5.1.1)\n",
            "Requirement already satisfied: pickleshare in /usr/local/lib/python3.7/dist-packages (from ipython->ipytest) (0.7.5)\n",
            "Requirement already satisfied: pexpect in /usr/local/lib/python3.7/dist-packages (from ipython->ipytest) (4.8.0)\n",
            "Requirement already satisfied: six>=1.9.0 in /usr/local/lib/python3.7/dist-packages (from prompt-toolkit<2.0.0,>=1.0.4->ipython->ipytest) (1.15.0)\n",
            "Requirement already satisfied: wcwidth in /usr/local/lib/python3.7/dist-packages (from prompt-toolkit<2.0.0,>=1.0.4->ipython->ipytest) (0.2.5)\n",
            "Requirement already satisfied: pyparsing!=3.0.5,>=2.0.2 in /usr/local/lib/python3.7/dist-packages (from packaging->ipytest) (3.0.6)\n",
            "Requirement already satisfied: ptyprocess>=0.5 in /usr/local/lib/python3.7/dist-packages (from pexpect->ipython->ipytest) (0.7.0)\n"
          ]
        }
      ]
    },
    {
      "cell_type": "code",
      "metadata": {
        "id": "j4Y4RFfHK-jl"
      },
      "source": [
        "#Key imports\n",
        "import json\n",
        "import pytest"
      ],
      "execution_count": 5,
      "outputs": []
    },
    {
      "cell_type": "markdown",
      "metadata": {
        "id": "bk8ybzFFKlik"
      },
      "source": [
        "##Question 1: Cats"
      ]
    },
    {
      "cell_type": "markdown",
      "metadata": {
        "id": "wcpoTT-NAQmN"
      },
      "source": [
        "Implement the function to read the JSON file `cat.json`"
      ]
    },
    {
      "cell_type": "code",
      "metadata": {
        "id": "3r9ub5i0Kv04"
      },
      "source": [
        "def open_cat_json():\n",
        "  \"\"\"\n",
        "  This function seeks to open the file called \n",
        "  \"cat.json\"\n",
        "\n",
        "  Return the JSON object as a dictionary\n",
        "  \"\"\"\n",
        "  f = open('cat.json')\n",
        "  data = json.load(f)\n",
        "  return data\n",
        "  ########## YOUR CODE HERE ##########\n",
        "\n",
        "  raise NotImplementedError(\"Did not implement open_cat_json() function\")\n",
        "\n",
        "  #####################################\n",
        "  # read file\n",
        "  # f = open('cat.json')\n",
        "  # data = json.load(f)\n",
        "  # return data"
      ],
      "execution_count": 14,
      "outputs": []
    },
    {
      "cell_type": "code",
      "metadata": {
        "colab": {
          "base_uri": "https://localhost:8080/"
        },
        "id": "MGsQA0mHM5Ml",
        "outputId": "1de3d493-4781-4596-beb0-9c54dc02d0f9"
      },
      "source": [
        "%%ipytest\n",
        "\n",
        "def test_open_cat():\n",
        "  proper_json = {\n",
        "  \"name\": \"Fluffy\",\n",
        "  \"activities\": [\n",
        "    \"play\",\n",
        "    \"eat cat food\"\n",
        "  ],\n",
        "  \"catFriends\": [\n",
        "    {\n",
        "      \"name\": \"bar\",\n",
        "      \"activities\": [\n",
        "        \"be grumpy\",\n",
        "        \"eat bread omblet\"\n",
        "      ],\n",
        "      \"weight\": 8,\n",
        "      \"furcolor\": \"white\"\n",
        "    },\n",
        "    {\n",
        "      \"name\": \"foo\",\n",
        "      \"activities\": [\n",
        "        \"sleep\",\n",
        "        \"pre-sleep naps\"\n",
        "      ],\n",
        "      \"weight\": 3\n",
        "    }\n",
        "  ]\n",
        "  }\n",
        "  your_json = open_cat_json()\n",
        "  assert (your_json == proper_json)\n",
        "\n",
        "\n"
      ],
      "execution_count": 15,
      "outputs": [
        {
          "output_type": "stream",
          "name": "stdout",
          "text": [
            "\u001b[32m.\u001b[0m\u001b[32m                                                                                            [100%]\u001b[0m\n",
            "\u001b[32m\u001b[32m\u001b[1m1 passed\u001b[0m\u001b[32m in 0.03s\u001b[0m\u001b[0m\n"
          ]
        }
      ]
    },
    {
      "cell_type": "markdown",
      "metadata": {
        "id": "KmfvHSB77jB1"
      },
      "source": [
        "**Question 1:** Add a height and weight to Fluffy. Make sure that the height and weight are both positive values. "
      ]
    },
    {
      "cell_type": "code",
      "metadata": {
        "id": "qmuo9wkI6_e2"
      },
      "source": [
        "def add_height_weight(height, weight):\n",
        "  \"\"\"\n",
        "  Add a height and weight to Fluffy (see the cat.json file)\n",
        "\n",
        "  Return the resulting dictionary after this modification\n",
        "\n",
        "  Raise a ValueError if height and weight are invalid \n",
        "  \"\"\"\n",
        "  # cat = open_cat_json()\n",
        "  # if (height <= 0 or weight <= 0):\n",
        "  #   raise ValueError(\"Height and weight must both be non-negative\")\n",
        "  # cat[\"height\"] = height\n",
        "  # cat[\"weight\"] = weight\n",
        "  # return cat\n",
        "  # print(cat)\n",
        "\n",
        "  ########## YOUR CODE HERE ##########\n",
        "\n",
        "  raise NotImplementedError(\"Did not implement add_height_weight() function\")\n",
        "\n",
        "  #####################################\n"
      ],
      "execution_count": 23,
      "outputs": []
    },
    {
      "cell_type": "code",
      "metadata": {
        "colab": {
          "base_uri": "https://localhost:8080/"
        },
        "id": "jb9cLjTrP8g9",
        "outputId": "f1799499-0a7b-42f5-a726-3115222c3cdd"
      },
      "source": [
        "%%ipytest\n",
        "\n",
        "@pytest.mark.parametrize(\"height, weight\", [\n",
        "    (1, 1),\n",
        "    (5,5),\n",
        "    (5,10),\n",
        "    (15,20),\n",
        "    (50, 100)\n",
        "])\n",
        "def test_height_weight(height, weight):\n",
        "  expected = {\n",
        "  \"name\": \"Fluffy\",\n",
        "  \"activities\": [\n",
        "    \"play\",\n",
        "    \"eat cat food\"\n",
        "  ],\n",
        "  \"catFriends\": [\n",
        "    {\n",
        "      \"name\": \"bar\",\n",
        "      \"activities\": [\n",
        "        \"be grumpy\",\n",
        "        \"eat bread omblet\"\n",
        "      ],\n",
        "      \"weight\": 8,\n",
        "      \"furcolor\": \"white\"\n",
        "    },\n",
        "    {\n",
        "      \"name\": \"foo\",\n",
        "      \"activities\": [\n",
        "        \"sleep\",\n",
        "        \"pre-sleep naps\"\n",
        "      ],\n",
        "      \"weight\": 3\n",
        "    }\n",
        "  ],\n",
        "  \"height\": height,\n",
        "  \"weight\": weight\n",
        "  }\n",
        "  your_json = add_height_weight(height, weight)\n",
        "  assert your_json == expected\n",
        "\n",
        "@pytest.mark.parametrize(\"height, weight\", [\n",
        "    (-10, -5),\n",
        "    (-10, 20),\n",
        "    (10,-20),\n",
        "    (0,0),\n",
        "    (0,5),\n",
        "    (10,0),\n",
        "    (-20,0),\n",
        "    (0,-50)\n",
        "])\n",
        "def test_invalid_height_weight_combos(height, weight):\n",
        "  with pytest.raises(ValueError):\n",
        "    add_height_weight(height, weight)"
      ],
      "execution_count": 24,
      "outputs": [
        {
          "output_type": "stream",
          "name": "stdout",
          "text": [
            "\u001b[32m.\u001b[0m\u001b[32m.\u001b[0m\u001b[32m.\u001b[0m\u001b[32m.\u001b[0m\u001b[32m.\u001b[0m\u001b[32m.\u001b[0m\u001b[32m.\u001b[0m\u001b[32m.\u001b[0m\u001b[32m.\u001b[0m\u001b[32m.\u001b[0m\u001b[32m.\u001b[0m\u001b[32m.\u001b[0m\u001b[32m.\u001b[0m\u001b[32m                                                                                [100%]\u001b[0m\n",
            "\u001b[32m\u001b[32m\u001b[1m13 passed\u001b[0m\u001b[32m in 0.10s\u001b[0m\u001b[0m\n"
          ]
        }
      ]
    },
    {
      "cell_type": "markdown",
      "metadata": {
        "id": "3c96z2Kv8aT5"
      },
      "source": [
        "**Question 2:**  Among Fluffy's friends, identify the name of the cat with maximum weight. "
      ]
    },
    {
      "cell_type": "code",
      "metadata": {
        "id": "8_INTUs38ncj"
      },
      "source": [
        "def max_weight_friend():\n",
        "  \"\"\"\n",
        "  Among Fluffy's friends, identify the name of the cat with maximum weight.\n",
        "\n",
        "  Assume that weights are non-negative for the sake of simplicity\n",
        "\n",
        "  Return that name \n",
        "  \"\"\"\n",
        "  # cat = open_cat_json()\n",
        "  # fluffy_friends = cat[\"catFriends\"]\n",
        "  # maxWeight = 0\n",
        "  # name = \"\"\n",
        "  # for friend in fluffy_friends:\n",
        "  #   if (friend[\"weight\"] > maxWeight):\n",
        "  #     maxWeight = friend[\"weight\"]\n",
        "  #     name = friend[\"name\"]\n",
        "  # return name\n",
        "\n",
        "  ########## YOUR CODE HERE ##########\n",
        "\n",
        "  raise NotImplementedError(\"Did not implement add_height_weight() function\")\n",
        "\n",
        "  #####################################\n"
      ],
      "execution_count": 34,
      "outputs": []
    },
    {
      "cell_type": "code",
      "metadata": {
        "colab": {
          "base_uri": "https://localhost:8080/"
        },
        "id": "C3Cxe3jMRnvN",
        "outputId": "6edb5d67-c958-470a-b772-e5ac1a7cd244"
      },
      "source": [
        "%%ipytest\n",
        "\n",
        "def test_max_weight_friend():\n",
        "  assert \"bar\" == max_weight_friend()"
      ],
      "execution_count": 30,
      "outputs": [
        {
          "output_type": "stream",
          "name": "stdout",
          "text": [
            "\u001b[31mF\u001b[0m\u001b[31m                                                                                            [100%]\u001b[0m\n",
            "============================================= FAILURES =============================================\n",
            "\u001b[31m\u001b[1m______________________________________ test_max_weight_friend ______________________________________\u001b[0m\n",
            "\n",
            "    \u001b[94mdef\u001b[39;49;00m \u001b[92mtest_max_weight_friend\u001b[39;49;00m():\n",
            ">     \u001b[94massert\u001b[39;49;00m \u001b[33m\"\u001b[39;49;00m\u001b[33mbar\u001b[39;49;00m\u001b[33m\"\u001b[39;49;00m == max_weight_friend()\n",
            "\n",
            "\u001b[1m\u001b[31m<ipython-input-30-123e406a45e3>\u001b[0m:3: \n",
            "_ _ _ _ _ _ _ _ _ _ _ _ _ _ _ _ _ _ _ _ _ _ _ _ _ _ _ _ _ _ _ _ _ _ _ _ _ _ _ _ _ _ _ _ _ _ _ _ _ _ \n",
            "\n",
            "    \u001b[94mdef\u001b[39;49;00m \u001b[92mmax_weight_friend\u001b[39;49;00m():\n",
            "      \u001b[33m\"\"\"\u001b[39;49;00m\n",
            "    \u001b[33m  Among Fluffy's friends, identify the name of the cat with maximum weight.\u001b[39;49;00m\n",
            "    \u001b[33m\u001b[39;49;00m\n",
            "    \u001b[33m  Assume that weights are non-negative for the sake of simplicity\u001b[39;49;00m\n",
            "    \u001b[33m\u001b[39;49;00m\n",
            "    \u001b[33m  Return that name\u001b[39;49;00m\n",
            "    \u001b[33m  \"\"\"\u001b[39;49;00m\n",
            "      \u001b[90m# cat = open_cat_json()\u001b[39;49;00m\n",
            "      \u001b[90m# fluffy_friends = cat[\"catFriends\"]\u001b[39;49;00m\n",
            "      \u001b[90m# maxWeight = 0\u001b[39;49;00m\n",
            "      \u001b[90m# name = \"\"\u001b[39;49;00m\n",
            "      \u001b[90m# for friend in fluffy_friends:\u001b[39;49;00m\n",
            "      \u001b[90m#   if (friend[\"weight\"] > maxWeight):\u001b[39;49;00m\n",
            "      \u001b[90m#     maxWeight = friend[\"weight\"]\u001b[39;49;00m\n",
            "      \u001b[90m#     name = friend[\"name\"]\u001b[39;49;00m\n",
            "      \u001b[90m# return name\u001b[39;49;00m\n",
            "    \n",
            "      \u001b[90m########## YOUR CODE HERE ##########\u001b[39;49;00m\n",
            "    \n",
            ">     \u001b[94mraise\u001b[39;49;00m \u001b[96mNotImplementedError\u001b[39;49;00m(\u001b[33m\"\u001b[39;49;00m\u001b[33mDid not implement add_height_weight() function\u001b[39;49;00m\u001b[33m\"\u001b[39;49;00m)\n",
            "\u001b[1m\u001b[31mE     NotImplementedError: Did not implement add_height_weight() function\u001b[0m\n",
            "\n",
            "\u001b[1m\u001b[31m<ipython-input-29-bbedd29b14b2>\u001b[0m:21: NotImplementedError\n",
            "===================================== short test summary info ======================================\n",
            "FAILED tmpq9hnqjv_.py::test_max_weight_friend - NotImplementedError: Did not implement add_height...\n",
            "\u001b[31m\u001b[31m\u001b[1m1 failed\u001b[0m\u001b[31m in 0.05s\u001b[0m\u001b[0m\n"
          ]
        }
      ]
    },
    {
      "cell_type": "markdown",
      "metadata": {
        "id": "iIoSZiuh9ZiA"
      },
      "source": [
        "**Question 3:** Suppose we use this json in the context of a Webkinz (a game where you can customize and interact with your favorite stuffed animal). One use case for Webkinz could be that a user wants to create a new cat. Write a function that takes in a cat's name along with a list of activities and a weight. Build a brand new JSON containing this new cat."
      ]
    },
    {
      "cell_type": "code",
      "metadata": {
        "id": "wiTwFl3o9ZMB"
      },
      "source": [
        "def create_new_cat(cat_name, activities_list, weight):\n",
        "  \"\"\"\n",
        "  Given a new cat name, activities list, and a weight, \n",
        "  build a JSON containing this information. You must handle cases\n",
        "  where the user passes in null values for these arguments\n",
        "  \"\"\"\n",
        "  ########## YOUR CODE HERE ##########\n",
        "  # new_cat = {\"activities\": activities_list, \"name\": cat_name, \"weight\": weight}\n",
        "  # obj = json.dumps(new_cat)\n",
        "  # return obj\n",
        "  raise NotImplementedError(\"Did not implement add_height_weight() function\")\n",
        "\n",
        "  #####################################\n",
        "  \n"
      ],
      "execution_count": 45,
      "outputs": []
    },
    {
      "cell_type": "code",
      "metadata": {
        "id": "eGQlvfp8SB5N"
      },
      "source": [
        "%%ipytest\n",
        "\n",
        "@pytest.mark.parametrize(\"cat_name, activities_list, weight\", [\n",
        "    (\"Bob\", [\"sleep\"], 3),\n",
        "    (\"Furry\", [\"cuddle\", \"walking\"], 5),\n",
        "    (\"Scruffy\", [\"eat\", \"roll over\", \"perform magic trick\"], 10)\n",
        "])\n",
        "def test_create_new_cat(cat_name, activities_list, weight):\n",
        "  expected_json = {\"name\": cat_name, \"activities\": activities_list, \"weight\": weight}\n",
        "  your_json = json.loads(create_new_cat(cat_name, activities_list, weight))\n",
        "  assert your_json == expected_json\n",
        "\n",
        "@pytest.mark.parametrize(\"cat_name, activities_list, weight\", [\n",
        "    (None, None, None),\n",
        "    (None, [\"sleep\"], 3),\n",
        "    (\"Furry\", None, 5),\n",
        "    (\"Scruffy\", [\"eat\", \"roll over\", \"perform magic trick\"], None),\n",
        "    (None, None, 10),\n",
        "    (None, [\"sleep\", \"eat\", \"play\"], None),\n",
        "    (\"Blaire\", None, None)\n",
        "])\n",
        "def test_fail_create_cat(cat_name, activities_list, weight):\n",
        "  with pytest.raises(ValueError):\n",
        "    create_new_cat(cat_name, activities_list, weight)"
      ],
      "execution_count": null,
      "outputs": []
    },
    {
      "cell_type": "markdown",
      "metadata": {
        "id": "5Enmm-XP-5S6"
      },
      "source": [
        "**Question 4:** Another use case for Webkinz could be adding a cat friend. Use the JSON outputted from your `create_new_cat()` function to add a cat friend. Return the resulting output. "
      ]
    },
    {
      "cell_type": "code",
      "metadata": {
        "id": "_ACO-wd7_PKI"
      },
      "source": [
        "def add_new_cat_friend(new_cat, friend_list):\n",
        "  \"\"\"\n",
        "  Example of friend list: [{\"name\": \"Sparkle\", \"activities\": [\"reading\", \"eating\"], \"weight\": 9}, \n",
        "                            {\"name\": \"Manny\", \"activities\": [\"skating\", \"hiking\", \"walking\"], \"weight\": 6}]\n",
        "  Friend List is basically a \"list of dictionaries\"\n",
        "\n",
        "  Example of New Cat: {\"name\": \"Bob\", \"activities\": [\"sleep\"], \"weight\": 3}\n",
        "  Example of output: \n",
        "  {\"name\": \"Bob\", \"activities\": [\"sleep\"], \"weight\": 3, \"catFriends\": [{\"name\": \"Sparkle\", \"activities\": [\"reading\", \"eating\"], \"weight\": 9}, \n",
        "                            {\"name\": \"Manny\", \"activities\": [\"skating\", \"hiking\", \"walking\"], \"weight\": 6}]}\n",
        "  \"\"\"\n",
        "  ########## YOUR CODE HERE ##########\n",
        "\n",
        "  raise NotImplementedError(\"Did not implement add_height_weight() function\")\n",
        "\n",
        "  #####################################\n"
      ],
      "execution_count": 49,
      "outputs": []
    },
    {
      "cell_type": "code",
      "metadata": {
        "colab": {
          "base_uri": "https://localhost:8080/"
        },
        "id": "b-V3tBarS_D3",
        "outputId": "deb8429a-54ad-457e-c57e-d3920f5f46f8"
      },
      "source": [
        "%%ipytest\n",
        "@pytest.mark.parametrize(\"new_cat, friend_list\", [\n",
        "  ({\"name\": \"Bob\", \"activities\": [\"sleep\"], \"weight\": 3}, {\"name\": \"Sparkle\", \"activities\": [\"reading\", \"eating\"], \"weight\": 9}),\n",
        "  ({\"name\": \"Sparkle\", \"activities\": [\"magic skit\"], \"weight\": 5}, {\"name\": \"Manny\", \"activities\": [\"skating\", \"hiking\", \"walking\"], \"weight\": 6}),\n",
        "  ({\"name\": \"Rusty\", \"activities\": [\"skating\", \"hiking\", \"walking\"], \"weight\": 6}, [{\"name\": \"Sparkle\", \"activities\": [\"reading\", \"eating\"], \"weight\": 9}, {\"name\": \"Manny\", \"activities\": [\"skating\", \"hiking\", \"walking\"], \"weight\": 6}])\n",
        "])\n",
        "def test_add_cat_friend(new_cat, friend_list):\n",
        "  expected_json = {\"name\": new_cat[\"name\"], \"activities\": new_cat[\"activities\"], \"catFriends\": friend_list}\n",
        "  your_json = json.loads(add_new_cat_friend(new_cat, friend_list))\n",
        "  assert your_json == expected_json"
      ],
      "execution_count": 50,
      "outputs": [
        {
          "output_type": "stream",
          "name": "stdout",
          "text": [
            "\u001b[31mF\u001b[0m\u001b[31mF\u001b[0m\u001b[31mF\u001b[0m\u001b[31m                                                                                          [100%]\u001b[0m\n",
            "============================================= FAILURES =============================================\n",
            "\u001b[31m\u001b[1m____________________________ test_add_cat_friend[new_cat0-friend_list0] ____________________________\u001b[0m\n",
            "\n",
            "new_cat = {'activities': ['sleep'], 'name': 'Bob', 'weight': 3}\n",
            "friend_list = {'activities': ['reading', 'eating'], 'name': 'Sparkle', 'weight': 9}\n",
            "\n",
            "    \u001b[37m@pytest\u001b[39;49;00m.mark.parametrize(\u001b[33m\"\u001b[39;49;00m\u001b[33mnew_cat, friend_list\u001b[39;49;00m\u001b[33m\"\u001b[39;49;00m, [\n",
            "      ({\u001b[33m\"\u001b[39;49;00m\u001b[33mname\u001b[39;49;00m\u001b[33m\"\u001b[39;49;00m: \u001b[33m\"\u001b[39;49;00m\u001b[33mBob\u001b[39;49;00m\u001b[33m\"\u001b[39;49;00m, \u001b[33m\"\u001b[39;49;00m\u001b[33mactivities\u001b[39;49;00m\u001b[33m\"\u001b[39;49;00m: [\u001b[33m\"\u001b[39;49;00m\u001b[33msleep\u001b[39;49;00m\u001b[33m\"\u001b[39;49;00m], \u001b[33m\"\u001b[39;49;00m\u001b[33mweight\u001b[39;49;00m\u001b[33m\"\u001b[39;49;00m: \u001b[94m3\u001b[39;49;00m}, {\u001b[33m\"\u001b[39;49;00m\u001b[33mname\u001b[39;49;00m\u001b[33m\"\u001b[39;49;00m: \u001b[33m\"\u001b[39;49;00m\u001b[33mSparkle\u001b[39;49;00m\u001b[33m\"\u001b[39;49;00m, \u001b[33m\"\u001b[39;49;00m\u001b[33mactivities\u001b[39;49;00m\u001b[33m\"\u001b[39;49;00m: [\u001b[33m\"\u001b[39;49;00m\u001b[33mreading\u001b[39;49;00m\u001b[33m\"\u001b[39;49;00m, \u001b[33m\"\u001b[39;49;00m\u001b[33meating\u001b[39;49;00m\u001b[33m\"\u001b[39;49;00m], \u001b[33m\"\u001b[39;49;00m\u001b[33mweight\u001b[39;49;00m\u001b[33m\"\u001b[39;49;00m: \u001b[94m9\u001b[39;49;00m}),\n",
            "      ({\u001b[33m\"\u001b[39;49;00m\u001b[33mname\u001b[39;49;00m\u001b[33m\"\u001b[39;49;00m: \u001b[33m\"\u001b[39;49;00m\u001b[33mSparkle\u001b[39;49;00m\u001b[33m\"\u001b[39;49;00m, \u001b[33m\"\u001b[39;49;00m\u001b[33mactivities\u001b[39;49;00m\u001b[33m\"\u001b[39;49;00m: [\u001b[33m\"\u001b[39;49;00m\u001b[33mmagic skit\u001b[39;49;00m\u001b[33m\"\u001b[39;49;00m], \u001b[33m\"\u001b[39;49;00m\u001b[33mweight\u001b[39;49;00m\u001b[33m\"\u001b[39;49;00m: \u001b[94m5\u001b[39;49;00m}, {\u001b[33m\"\u001b[39;49;00m\u001b[33mname\u001b[39;49;00m\u001b[33m\"\u001b[39;49;00m: \u001b[33m\"\u001b[39;49;00m\u001b[33mManny\u001b[39;49;00m\u001b[33m\"\u001b[39;49;00m, \u001b[33m\"\u001b[39;49;00m\u001b[33mactivities\u001b[39;49;00m\u001b[33m\"\u001b[39;49;00m: [\u001b[33m\"\u001b[39;49;00m\u001b[33mskating\u001b[39;49;00m\u001b[33m\"\u001b[39;49;00m, \u001b[33m\"\u001b[39;49;00m\u001b[33mhiking\u001b[39;49;00m\u001b[33m\"\u001b[39;49;00m, \u001b[33m\"\u001b[39;49;00m\u001b[33mwalking\u001b[39;49;00m\u001b[33m\"\u001b[39;49;00m], \u001b[33m\"\u001b[39;49;00m\u001b[33mweight\u001b[39;49;00m\u001b[33m\"\u001b[39;49;00m: \u001b[94m6\u001b[39;49;00m}),\n",
            "      ({\u001b[33m\"\u001b[39;49;00m\u001b[33mname\u001b[39;49;00m\u001b[33m\"\u001b[39;49;00m: \u001b[33m\"\u001b[39;49;00m\u001b[33mRusty\u001b[39;49;00m\u001b[33m\"\u001b[39;49;00m, \u001b[33m\"\u001b[39;49;00m\u001b[33mactivities\u001b[39;49;00m\u001b[33m\"\u001b[39;49;00m: [\u001b[33m\"\u001b[39;49;00m\u001b[33mskating\u001b[39;49;00m\u001b[33m\"\u001b[39;49;00m, \u001b[33m\"\u001b[39;49;00m\u001b[33mhiking\u001b[39;49;00m\u001b[33m\"\u001b[39;49;00m, \u001b[33m\"\u001b[39;49;00m\u001b[33mwalking\u001b[39;49;00m\u001b[33m\"\u001b[39;49;00m], \u001b[33m\"\u001b[39;49;00m\u001b[33mweight\u001b[39;49;00m\u001b[33m\"\u001b[39;49;00m: \u001b[94m6\u001b[39;49;00m}, [{\u001b[33m\"\u001b[39;49;00m\u001b[33mname\u001b[39;49;00m\u001b[33m\"\u001b[39;49;00m: \u001b[33m\"\u001b[39;49;00m\u001b[33mSparkle\u001b[39;49;00m\u001b[33m\"\u001b[39;49;00m, \u001b[33m\"\u001b[39;49;00m\u001b[33mactivities\u001b[39;49;00m\u001b[33m\"\u001b[39;49;00m: [\u001b[33m\"\u001b[39;49;00m\u001b[33mreading\u001b[39;49;00m\u001b[33m\"\u001b[39;49;00m, \u001b[33m\"\u001b[39;49;00m\u001b[33meating\u001b[39;49;00m\u001b[33m\"\u001b[39;49;00m], \u001b[33m\"\u001b[39;49;00m\u001b[33mweight\u001b[39;49;00m\u001b[33m\"\u001b[39;49;00m: \u001b[94m9\u001b[39;49;00m}, {\u001b[33m\"\u001b[39;49;00m\u001b[33mname\u001b[39;49;00m\u001b[33m\"\u001b[39;49;00m: \u001b[33m\"\u001b[39;49;00m\u001b[33mManny\u001b[39;49;00m\u001b[33m\"\u001b[39;49;00m, \u001b[33m\"\u001b[39;49;00m\u001b[33mactivities\u001b[39;49;00m\u001b[33m\"\u001b[39;49;00m: [\u001b[33m\"\u001b[39;49;00m\u001b[33mskating\u001b[39;49;00m\u001b[33m\"\u001b[39;49;00m, \u001b[33m\"\u001b[39;49;00m\u001b[33mhiking\u001b[39;49;00m\u001b[33m\"\u001b[39;49;00m, \u001b[33m\"\u001b[39;49;00m\u001b[33mwalking\u001b[39;49;00m\u001b[33m\"\u001b[39;49;00m], \u001b[33m\"\u001b[39;49;00m\u001b[33mweight\u001b[39;49;00m\u001b[33m\"\u001b[39;49;00m: \u001b[94m6\u001b[39;49;00m}])\n",
            "    ])\n",
            "    \u001b[94mdef\u001b[39;49;00m \u001b[92mtest_add_cat_friend\u001b[39;49;00m(new_cat, friend_list):\n",
            "      expected_json = {\u001b[33m\"\u001b[39;49;00m\u001b[33mname\u001b[39;49;00m\u001b[33m\"\u001b[39;49;00m: new_cat[\u001b[33m\"\u001b[39;49;00m\u001b[33mname\u001b[39;49;00m\u001b[33m\"\u001b[39;49;00m], \u001b[33m\"\u001b[39;49;00m\u001b[33mactivities\u001b[39;49;00m\u001b[33m\"\u001b[39;49;00m: new_cat[\u001b[33m\"\u001b[39;49;00m\u001b[33mactivities\u001b[39;49;00m\u001b[33m\"\u001b[39;49;00m], \u001b[33m\"\u001b[39;49;00m\u001b[33mcatFriends\u001b[39;49;00m\u001b[33m\"\u001b[39;49;00m: friend_list}\n",
            ">     your_json = json.loads(add_new_cat_friend(new_cat, friend_list))\n",
            "\n",
            "\u001b[1m\u001b[31m<ipython-input-50-1ffe66b9b71a>\u001b[0m:8: \n",
            "_ _ _ _ _ _ _ _ _ _ _ _ _ _ _ _ _ _ _ _ _ _ _ _ _ _ _ _ _ _ _ _ _ _ _ _ _ _ _ _ _ _ _ _ _ _ _ _ _ _ \n",
            "\n",
            "new_cat = {'activities': ['sleep'], 'name': 'Bob', 'weight': 3}\n",
            "friend_list = {'activities': ['reading', 'eating'], 'name': 'Sparkle', 'weight': 9}\n",
            "\n",
            "    \u001b[94mdef\u001b[39;49;00m \u001b[92madd_new_cat_friend\u001b[39;49;00m(new_cat, friend_list):\n",
            "      \u001b[33m\"\"\"\u001b[39;49;00m\n",
            "    \u001b[33m  Example of friend list: [{\"name\": \"Sparkle\", \"activities\": [\"reading\", \"eating\"], \"weight\": 9},\u001b[39;49;00m\n",
            "    \u001b[33m                            {\"name\": \"Manny\", \"activities\": [\"skating\", \"hiking\", \"walking\"], \"weight\": 6}]\u001b[39;49;00m\n",
            "    \u001b[33m  Friend List is basically a \"list of dictionaries\"\u001b[39;49;00m\n",
            "    \u001b[33m\u001b[39;49;00m\n",
            "    \u001b[33m  Example of New Cat: {\"name\": \"Bob\", \"activities\": [\"sleep\"], \"weight\": 3}\u001b[39;49;00m\n",
            "    \u001b[33m  Example of output:\u001b[39;49;00m\n",
            "    \u001b[33m  {\"name\": \"Bob\", \"activities\": [\"sleep\"], \"weight\": 3, \"catFriends\": [{\"name\": \"Sparkle\", \"activities\": [\"reading\", \"eating\"], \"weight\": 9},\u001b[39;49;00m\n",
            "    \u001b[33m                            {\"name\": \"Manny\", \"activities\": [\"skating\", \"hiking\", \"walking\"], \"weight\": 6}]}\u001b[39;49;00m\n",
            "    \u001b[33m  \"\"\"\u001b[39;49;00m\n",
            "      \u001b[90m########## YOUR CODE HERE ##########\u001b[39;49;00m\n",
            "    \n",
            ">     \u001b[94mraise\u001b[39;49;00m \u001b[96mNotImplementedError\u001b[39;49;00m(\u001b[33m\"\u001b[39;49;00m\u001b[33mDid not implement add_height_weight() function\u001b[39;49;00m\u001b[33m\"\u001b[39;49;00m)\n",
            "\u001b[1m\u001b[31mE     NotImplementedError: Did not implement add_height_weight() function\u001b[0m\n",
            "\n",
            "\u001b[1m\u001b[31m<ipython-input-49-e02bccf18a20>\u001b[0m:14: NotImplementedError\n",
            "\u001b[31m\u001b[1m____________________________ test_add_cat_friend[new_cat1-friend_list1] ____________________________\u001b[0m\n",
            "\n",
            "new_cat = {'activities': ['magic skit'], 'name': 'Sparkle', 'weight': 5}\n",
            "friend_list = {'activities': ['skating', 'hiking', 'walking'], 'name': 'Manny', 'weight': 6}\n",
            "\n",
            "    \u001b[37m@pytest\u001b[39;49;00m.mark.parametrize(\u001b[33m\"\u001b[39;49;00m\u001b[33mnew_cat, friend_list\u001b[39;49;00m\u001b[33m\"\u001b[39;49;00m, [\n",
            "      ({\u001b[33m\"\u001b[39;49;00m\u001b[33mname\u001b[39;49;00m\u001b[33m\"\u001b[39;49;00m: \u001b[33m\"\u001b[39;49;00m\u001b[33mBob\u001b[39;49;00m\u001b[33m\"\u001b[39;49;00m, \u001b[33m\"\u001b[39;49;00m\u001b[33mactivities\u001b[39;49;00m\u001b[33m\"\u001b[39;49;00m: [\u001b[33m\"\u001b[39;49;00m\u001b[33msleep\u001b[39;49;00m\u001b[33m\"\u001b[39;49;00m], \u001b[33m\"\u001b[39;49;00m\u001b[33mweight\u001b[39;49;00m\u001b[33m\"\u001b[39;49;00m: \u001b[94m3\u001b[39;49;00m}, {\u001b[33m\"\u001b[39;49;00m\u001b[33mname\u001b[39;49;00m\u001b[33m\"\u001b[39;49;00m: \u001b[33m\"\u001b[39;49;00m\u001b[33mSparkle\u001b[39;49;00m\u001b[33m\"\u001b[39;49;00m, \u001b[33m\"\u001b[39;49;00m\u001b[33mactivities\u001b[39;49;00m\u001b[33m\"\u001b[39;49;00m: [\u001b[33m\"\u001b[39;49;00m\u001b[33mreading\u001b[39;49;00m\u001b[33m\"\u001b[39;49;00m, \u001b[33m\"\u001b[39;49;00m\u001b[33meating\u001b[39;49;00m\u001b[33m\"\u001b[39;49;00m], \u001b[33m\"\u001b[39;49;00m\u001b[33mweight\u001b[39;49;00m\u001b[33m\"\u001b[39;49;00m: \u001b[94m9\u001b[39;49;00m}),\n",
            "      ({\u001b[33m\"\u001b[39;49;00m\u001b[33mname\u001b[39;49;00m\u001b[33m\"\u001b[39;49;00m: \u001b[33m\"\u001b[39;49;00m\u001b[33mSparkle\u001b[39;49;00m\u001b[33m\"\u001b[39;49;00m, \u001b[33m\"\u001b[39;49;00m\u001b[33mactivities\u001b[39;49;00m\u001b[33m\"\u001b[39;49;00m: [\u001b[33m\"\u001b[39;49;00m\u001b[33mmagic skit\u001b[39;49;00m\u001b[33m\"\u001b[39;49;00m], \u001b[33m\"\u001b[39;49;00m\u001b[33mweight\u001b[39;49;00m\u001b[33m\"\u001b[39;49;00m: \u001b[94m5\u001b[39;49;00m}, {\u001b[33m\"\u001b[39;49;00m\u001b[33mname\u001b[39;49;00m\u001b[33m\"\u001b[39;49;00m: \u001b[33m\"\u001b[39;49;00m\u001b[33mManny\u001b[39;49;00m\u001b[33m\"\u001b[39;49;00m, \u001b[33m\"\u001b[39;49;00m\u001b[33mactivities\u001b[39;49;00m\u001b[33m\"\u001b[39;49;00m: [\u001b[33m\"\u001b[39;49;00m\u001b[33mskating\u001b[39;49;00m\u001b[33m\"\u001b[39;49;00m, \u001b[33m\"\u001b[39;49;00m\u001b[33mhiking\u001b[39;49;00m\u001b[33m\"\u001b[39;49;00m, \u001b[33m\"\u001b[39;49;00m\u001b[33mwalking\u001b[39;49;00m\u001b[33m\"\u001b[39;49;00m], \u001b[33m\"\u001b[39;49;00m\u001b[33mweight\u001b[39;49;00m\u001b[33m\"\u001b[39;49;00m: \u001b[94m6\u001b[39;49;00m}),\n",
            "      ({\u001b[33m\"\u001b[39;49;00m\u001b[33mname\u001b[39;49;00m\u001b[33m\"\u001b[39;49;00m: \u001b[33m\"\u001b[39;49;00m\u001b[33mRusty\u001b[39;49;00m\u001b[33m\"\u001b[39;49;00m, \u001b[33m\"\u001b[39;49;00m\u001b[33mactivities\u001b[39;49;00m\u001b[33m\"\u001b[39;49;00m: [\u001b[33m\"\u001b[39;49;00m\u001b[33mskating\u001b[39;49;00m\u001b[33m\"\u001b[39;49;00m, \u001b[33m\"\u001b[39;49;00m\u001b[33mhiking\u001b[39;49;00m\u001b[33m\"\u001b[39;49;00m, \u001b[33m\"\u001b[39;49;00m\u001b[33mwalking\u001b[39;49;00m\u001b[33m\"\u001b[39;49;00m], \u001b[33m\"\u001b[39;49;00m\u001b[33mweight\u001b[39;49;00m\u001b[33m\"\u001b[39;49;00m: \u001b[94m6\u001b[39;49;00m}, [{\u001b[33m\"\u001b[39;49;00m\u001b[33mname\u001b[39;49;00m\u001b[33m\"\u001b[39;49;00m: \u001b[33m\"\u001b[39;49;00m\u001b[33mSparkle\u001b[39;49;00m\u001b[33m\"\u001b[39;49;00m, \u001b[33m\"\u001b[39;49;00m\u001b[33mactivities\u001b[39;49;00m\u001b[33m\"\u001b[39;49;00m: [\u001b[33m\"\u001b[39;49;00m\u001b[33mreading\u001b[39;49;00m\u001b[33m\"\u001b[39;49;00m, \u001b[33m\"\u001b[39;49;00m\u001b[33meating\u001b[39;49;00m\u001b[33m\"\u001b[39;49;00m], \u001b[33m\"\u001b[39;49;00m\u001b[33mweight\u001b[39;49;00m\u001b[33m\"\u001b[39;49;00m: \u001b[94m9\u001b[39;49;00m}, {\u001b[33m\"\u001b[39;49;00m\u001b[33mname\u001b[39;49;00m\u001b[33m\"\u001b[39;49;00m: \u001b[33m\"\u001b[39;49;00m\u001b[33mManny\u001b[39;49;00m\u001b[33m\"\u001b[39;49;00m, \u001b[33m\"\u001b[39;49;00m\u001b[33mactivities\u001b[39;49;00m\u001b[33m\"\u001b[39;49;00m: [\u001b[33m\"\u001b[39;49;00m\u001b[33mskating\u001b[39;49;00m\u001b[33m\"\u001b[39;49;00m, \u001b[33m\"\u001b[39;49;00m\u001b[33mhiking\u001b[39;49;00m\u001b[33m\"\u001b[39;49;00m, \u001b[33m\"\u001b[39;49;00m\u001b[33mwalking\u001b[39;49;00m\u001b[33m\"\u001b[39;49;00m], \u001b[33m\"\u001b[39;49;00m\u001b[33mweight\u001b[39;49;00m\u001b[33m\"\u001b[39;49;00m: \u001b[94m6\u001b[39;49;00m}])\n",
            "    ])\n",
            "    \u001b[94mdef\u001b[39;49;00m \u001b[92mtest_add_cat_friend\u001b[39;49;00m(new_cat, friend_list):\n",
            "      expected_json = {\u001b[33m\"\u001b[39;49;00m\u001b[33mname\u001b[39;49;00m\u001b[33m\"\u001b[39;49;00m: new_cat[\u001b[33m\"\u001b[39;49;00m\u001b[33mname\u001b[39;49;00m\u001b[33m\"\u001b[39;49;00m], \u001b[33m\"\u001b[39;49;00m\u001b[33mactivities\u001b[39;49;00m\u001b[33m\"\u001b[39;49;00m: new_cat[\u001b[33m\"\u001b[39;49;00m\u001b[33mactivities\u001b[39;49;00m\u001b[33m\"\u001b[39;49;00m], \u001b[33m\"\u001b[39;49;00m\u001b[33mcatFriends\u001b[39;49;00m\u001b[33m\"\u001b[39;49;00m: friend_list}\n",
            ">     your_json = json.loads(add_new_cat_friend(new_cat, friend_list))\n",
            "\n",
            "\u001b[1m\u001b[31m<ipython-input-50-1ffe66b9b71a>\u001b[0m:8: \n",
            "_ _ _ _ _ _ _ _ _ _ _ _ _ _ _ _ _ _ _ _ _ _ _ _ _ _ _ _ _ _ _ _ _ _ _ _ _ _ _ _ _ _ _ _ _ _ _ _ _ _ \n",
            "\n",
            "new_cat = {'activities': ['magic skit'], 'name': 'Sparkle', 'weight': 5}\n",
            "friend_list = {'activities': ['skating', 'hiking', 'walking'], 'name': 'Manny', 'weight': 6}\n",
            "\n",
            "    \u001b[94mdef\u001b[39;49;00m \u001b[92madd_new_cat_friend\u001b[39;49;00m(new_cat, friend_list):\n",
            "      \u001b[33m\"\"\"\u001b[39;49;00m\n",
            "    \u001b[33m  Example of friend list: [{\"name\": \"Sparkle\", \"activities\": [\"reading\", \"eating\"], \"weight\": 9},\u001b[39;49;00m\n",
            "    \u001b[33m                            {\"name\": \"Manny\", \"activities\": [\"skating\", \"hiking\", \"walking\"], \"weight\": 6}]\u001b[39;49;00m\n",
            "    \u001b[33m  Friend List is basically a \"list of dictionaries\"\u001b[39;49;00m\n",
            "    \u001b[33m\u001b[39;49;00m\n",
            "    \u001b[33m  Example of New Cat: {\"name\": \"Bob\", \"activities\": [\"sleep\"], \"weight\": 3}\u001b[39;49;00m\n",
            "    \u001b[33m  Example of output:\u001b[39;49;00m\n",
            "    \u001b[33m  {\"name\": \"Bob\", \"activities\": [\"sleep\"], \"weight\": 3, \"catFriends\": [{\"name\": \"Sparkle\", \"activities\": [\"reading\", \"eating\"], \"weight\": 9},\u001b[39;49;00m\n",
            "    \u001b[33m                            {\"name\": \"Manny\", \"activities\": [\"skating\", \"hiking\", \"walking\"], \"weight\": 6}]}\u001b[39;49;00m\n",
            "    \u001b[33m  \"\"\"\u001b[39;49;00m\n",
            "      \u001b[90m########## YOUR CODE HERE ##########\u001b[39;49;00m\n",
            "    \n",
            ">     \u001b[94mraise\u001b[39;49;00m \u001b[96mNotImplementedError\u001b[39;49;00m(\u001b[33m\"\u001b[39;49;00m\u001b[33mDid not implement add_height_weight() function\u001b[39;49;00m\u001b[33m\"\u001b[39;49;00m)\n",
            "\u001b[1m\u001b[31mE     NotImplementedError: Did not implement add_height_weight() function\u001b[0m\n",
            "\n",
            "\u001b[1m\u001b[31m<ipython-input-49-e02bccf18a20>\u001b[0m:14: NotImplementedError\n",
            "\u001b[31m\u001b[1m____________________________ test_add_cat_friend[new_cat2-friend_list2] ____________________________\u001b[0m\n",
            "\n",
            "new_cat = {'activities': ['skating', 'hiking', 'walking'], 'name': 'Rusty', 'weight': 6}\n",
            "friend_list = [{'activities': ['reading', 'eating'], 'name': 'Sparkle', 'weight': 9}, {'activities': ['skating', 'hiking', 'walking'], 'name': 'Manny', 'weight': 6}]\n",
            "\n",
            "    \u001b[37m@pytest\u001b[39;49;00m.mark.parametrize(\u001b[33m\"\u001b[39;49;00m\u001b[33mnew_cat, friend_list\u001b[39;49;00m\u001b[33m\"\u001b[39;49;00m, [\n",
            "      ({\u001b[33m\"\u001b[39;49;00m\u001b[33mname\u001b[39;49;00m\u001b[33m\"\u001b[39;49;00m: \u001b[33m\"\u001b[39;49;00m\u001b[33mBob\u001b[39;49;00m\u001b[33m\"\u001b[39;49;00m, \u001b[33m\"\u001b[39;49;00m\u001b[33mactivities\u001b[39;49;00m\u001b[33m\"\u001b[39;49;00m: [\u001b[33m\"\u001b[39;49;00m\u001b[33msleep\u001b[39;49;00m\u001b[33m\"\u001b[39;49;00m], \u001b[33m\"\u001b[39;49;00m\u001b[33mweight\u001b[39;49;00m\u001b[33m\"\u001b[39;49;00m: \u001b[94m3\u001b[39;49;00m}, {\u001b[33m\"\u001b[39;49;00m\u001b[33mname\u001b[39;49;00m\u001b[33m\"\u001b[39;49;00m: \u001b[33m\"\u001b[39;49;00m\u001b[33mSparkle\u001b[39;49;00m\u001b[33m\"\u001b[39;49;00m, \u001b[33m\"\u001b[39;49;00m\u001b[33mactivities\u001b[39;49;00m\u001b[33m\"\u001b[39;49;00m: [\u001b[33m\"\u001b[39;49;00m\u001b[33mreading\u001b[39;49;00m\u001b[33m\"\u001b[39;49;00m, \u001b[33m\"\u001b[39;49;00m\u001b[33meating\u001b[39;49;00m\u001b[33m\"\u001b[39;49;00m], \u001b[33m\"\u001b[39;49;00m\u001b[33mweight\u001b[39;49;00m\u001b[33m\"\u001b[39;49;00m: \u001b[94m9\u001b[39;49;00m}),\n",
            "      ({\u001b[33m\"\u001b[39;49;00m\u001b[33mname\u001b[39;49;00m\u001b[33m\"\u001b[39;49;00m: \u001b[33m\"\u001b[39;49;00m\u001b[33mSparkle\u001b[39;49;00m\u001b[33m\"\u001b[39;49;00m, \u001b[33m\"\u001b[39;49;00m\u001b[33mactivities\u001b[39;49;00m\u001b[33m\"\u001b[39;49;00m: [\u001b[33m\"\u001b[39;49;00m\u001b[33mmagic skit\u001b[39;49;00m\u001b[33m\"\u001b[39;49;00m], \u001b[33m\"\u001b[39;49;00m\u001b[33mweight\u001b[39;49;00m\u001b[33m\"\u001b[39;49;00m: \u001b[94m5\u001b[39;49;00m}, {\u001b[33m\"\u001b[39;49;00m\u001b[33mname\u001b[39;49;00m\u001b[33m\"\u001b[39;49;00m: \u001b[33m\"\u001b[39;49;00m\u001b[33mManny\u001b[39;49;00m\u001b[33m\"\u001b[39;49;00m, \u001b[33m\"\u001b[39;49;00m\u001b[33mactivities\u001b[39;49;00m\u001b[33m\"\u001b[39;49;00m: [\u001b[33m\"\u001b[39;49;00m\u001b[33mskating\u001b[39;49;00m\u001b[33m\"\u001b[39;49;00m, \u001b[33m\"\u001b[39;49;00m\u001b[33mhiking\u001b[39;49;00m\u001b[33m\"\u001b[39;49;00m, \u001b[33m\"\u001b[39;49;00m\u001b[33mwalking\u001b[39;49;00m\u001b[33m\"\u001b[39;49;00m], \u001b[33m\"\u001b[39;49;00m\u001b[33mweight\u001b[39;49;00m\u001b[33m\"\u001b[39;49;00m: \u001b[94m6\u001b[39;49;00m}),\n",
            "      ({\u001b[33m\"\u001b[39;49;00m\u001b[33mname\u001b[39;49;00m\u001b[33m\"\u001b[39;49;00m: \u001b[33m\"\u001b[39;49;00m\u001b[33mRusty\u001b[39;49;00m\u001b[33m\"\u001b[39;49;00m, \u001b[33m\"\u001b[39;49;00m\u001b[33mactivities\u001b[39;49;00m\u001b[33m\"\u001b[39;49;00m: [\u001b[33m\"\u001b[39;49;00m\u001b[33mskating\u001b[39;49;00m\u001b[33m\"\u001b[39;49;00m, \u001b[33m\"\u001b[39;49;00m\u001b[33mhiking\u001b[39;49;00m\u001b[33m\"\u001b[39;49;00m, \u001b[33m\"\u001b[39;49;00m\u001b[33mwalking\u001b[39;49;00m\u001b[33m\"\u001b[39;49;00m], \u001b[33m\"\u001b[39;49;00m\u001b[33mweight\u001b[39;49;00m\u001b[33m\"\u001b[39;49;00m: \u001b[94m6\u001b[39;49;00m}, [{\u001b[33m\"\u001b[39;49;00m\u001b[33mname\u001b[39;49;00m\u001b[33m\"\u001b[39;49;00m: \u001b[33m\"\u001b[39;49;00m\u001b[33mSparkle\u001b[39;49;00m\u001b[33m\"\u001b[39;49;00m, \u001b[33m\"\u001b[39;49;00m\u001b[33mactivities\u001b[39;49;00m\u001b[33m\"\u001b[39;49;00m: [\u001b[33m\"\u001b[39;49;00m\u001b[33mreading\u001b[39;49;00m\u001b[33m\"\u001b[39;49;00m, \u001b[33m\"\u001b[39;49;00m\u001b[33meating\u001b[39;49;00m\u001b[33m\"\u001b[39;49;00m], \u001b[33m\"\u001b[39;49;00m\u001b[33mweight\u001b[39;49;00m\u001b[33m\"\u001b[39;49;00m: \u001b[94m9\u001b[39;49;00m}, {\u001b[33m\"\u001b[39;49;00m\u001b[33mname\u001b[39;49;00m\u001b[33m\"\u001b[39;49;00m: \u001b[33m\"\u001b[39;49;00m\u001b[33mManny\u001b[39;49;00m\u001b[33m\"\u001b[39;49;00m, \u001b[33m\"\u001b[39;49;00m\u001b[33mactivities\u001b[39;49;00m\u001b[33m\"\u001b[39;49;00m: [\u001b[33m\"\u001b[39;49;00m\u001b[33mskating\u001b[39;49;00m\u001b[33m\"\u001b[39;49;00m, \u001b[33m\"\u001b[39;49;00m\u001b[33mhiking\u001b[39;49;00m\u001b[33m\"\u001b[39;49;00m, \u001b[33m\"\u001b[39;49;00m\u001b[33mwalking\u001b[39;49;00m\u001b[33m\"\u001b[39;49;00m], \u001b[33m\"\u001b[39;49;00m\u001b[33mweight\u001b[39;49;00m\u001b[33m\"\u001b[39;49;00m: \u001b[94m6\u001b[39;49;00m}])\n",
            "    ])\n",
            "    \u001b[94mdef\u001b[39;49;00m \u001b[92mtest_add_cat_friend\u001b[39;49;00m(new_cat, friend_list):\n",
            "      expected_json = {\u001b[33m\"\u001b[39;49;00m\u001b[33mname\u001b[39;49;00m\u001b[33m\"\u001b[39;49;00m: new_cat[\u001b[33m\"\u001b[39;49;00m\u001b[33mname\u001b[39;49;00m\u001b[33m\"\u001b[39;49;00m], \u001b[33m\"\u001b[39;49;00m\u001b[33mactivities\u001b[39;49;00m\u001b[33m\"\u001b[39;49;00m: new_cat[\u001b[33m\"\u001b[39;49;00m\u001b[33mactivities\u001b[39;49;00m\u001b[33m\"\u001b[39;49;00m], \u001b[33m\"\u001b[39;49;00m\u001b[33mcatFriends\u001b[39;49;00m\u001b[33m\"\u001b[39;49;00m: friend_list}\n",
            ">     your_json = json.loads(add_new_cat_friend(new_cat, friend_list))\n",
            "\n",
            "\u001b[1m\u001b[31m<ipython-input-50-1ffe66b9b71a>\u001b[0m:8: \n",
            "_ _ _ _ _ _ _ _ _ _ _ _ _ _ _ _ _ _ _ _ _ _ _ _ _ _ _ _ _ _ _ _ _ _ _ _ _ _ _ _ _ _ _ _ _ _ _ _ _ _ \n",
            "\n",
            "new_cat = {'activities': ['skating', 'hiking', 'walking'], 'name': 'Rusty', 'weight': 6}\n",
            "friend_list = [{'activities': ['reading', 'eating'], 'name': 'Sparkle', 'weight': 9}, {'activities': ['skating', 'hiking', 'walking'], 'name': 'Manny', 'weight': 6}]\n",
            "\n",
            "    \u001b[94mdef\u001b[39;49;00m \u001b[92madd_new_cat_friend\u001b[39;49;00m(new_cat, friend_list):\n",
            "      \u001b[33m\"\"\"\u001b[39;49;00m\n",
            "    \u001b[33m  Example of friend list: [{\"name\": \"Sparkle\", \"activities\": [\"reading\", \"eating\"], \"weight\": 9},\u001b[39;49;00m\n",
            "    \u001b[33m                            {\"name\": \"Manny\", \"activities\": [\"skating\", \"hiking\", \"walking\"], \"weight\": 6}]\u001b[39;49;00m\n",
            "    \u001b[33m  Friend List is basically a \"list of dictionaries\"\u001b[39;49;00m\n",
            "    \u001b[33m\u001b[39;49;00m\n",
            "    \u001b[33m  Example of New Cat: {\"name\": \"Bob\", \"activities\": [\"sleep\"], \"weight\": 3}\u001b[39;49;00m\n",
            "    \u001b[33m  Example of output:\u001b[39;49;00m\n",
            "    \u001b[33m  {\"name\": \"Bob\", \"activities\": [\"sleep\"], \"weight\": 3, \"catFriends\": [{\"name\": \"Sparkle\", \"activities\": [\"reading\", \"eating\"], \"weight\": 9},\u001b[39;49;00m\n",
            "    \u001b[33m                            {\"name\": \"Manny\", \"activities\": [\"skating\", \"hiking\", \"walking\"], \"weight\": 6}]}\u001b[39;49;00m\n",
            "    \u001b[33m  \"\"\"\u001b[39;49;00m\n",
            "      \u001b[90m########## YOUR CODE HERE ##########\u001b[39;49;00m\n",
            "    \n",
            ">     \u001b[94mraise\u001b[39;49;00m \u001b[96mNotImplementedError\u001b[39;49;00m(\u001b[33m\"\u001b[39;49;00m\u001b[33mDid not implement add_height_weight() function\u001b[39;49;00m\u001b[33m\"\u001b[39;49;00m)\n",
            "\u001b[1m\u001b[31mE     NotImplementedError: Did not implement add_height_weight() function\u001b[0m\n",
            "\n",
            "\u001b[1m\u001b[31m<ipython-input-49-e02bccf18a20>\u001b[0m:14: NotImplementedError\n",
            "===================================== short test summary info ======================================\n",
            "FAILED tmptucnok5s.py::test_add_cat_friend[new_cat0-friend_list0] - NotImplementedError: Did not ...\n",
            "FAILED tmptucnok5s.py::test_add_cat_friend[new_cat1-friend_list1] - NotImplementedError: Did not ...\n",
            "FAILED tmptucnok5s.py::test_add_cat_friend[new_cat2-friend_list2] - NotImplementedError: Did not ...\n",
            "\u001b[31m\u001b[31m\u001b[1m3 failed\u001b[0m\u001b[31m in 0.11s\u001b[0m\u001b[0m\n"
          ]
        }
      ]
    },
    {
      "cell_type": "markdown",
      "metadata": {
        "id": "gsWEqbfJ_7E7"
      },
      "source": [
        "##Question 2: Cars"
      ]
    },
    {
      "cell_type": "markdown",
      "metadata": {
        "id": "HxwVgJmCAOvg"
      },
      "source": [
        "Implement the function to read the `cars.json` file"
      ]
    },
    {
      "cell_type": "code",
      "metadata": {
        "id": "bxFIQYD2AZnH"
      },
      "source": [
        "def open_car_json():\n",
        "  \"\"\"\n",
        "  This function seeks to open the file called \n",
        "  \"cars.json\"\n",
        "\n",
        "  Return the JSON object as a dictionary\n",
        "  \"\"\"\n",
        "  ########## YOUR CODE HERE ##########\n",
        "\n",
        "  raise NotImplementedError(\"Did not implement open_car_json() function\")\n",
        "\n",
        "  #####################################\n",
        "  # read file\n",
        "  # f = open('cat.json')\n",
        "  # data = json.load(f)\n",
        "  # return data"
      ],
      "execution_count": 62,
      "outputs": []
    },
    {
      "cell_type": "code",
      "metadata": {
        "colab": {
          "base_uri": "https://localhost:8080/"
        },
        "id": "88yVo-CvUg0h",
        "outputId": "4a0a5ebf-f733-4980-d5db-b5e998f3c9d0"
      },
      "source": [
        "%%ipytest\n",
        "\n",
        "def test_read_car_json():\n",
        "  len_expected = 406\n",
        "  your_json = open_car_json()\n",
        "  assert len(your_json) == len_expected\n",
        "   "
      ],
      "execution_count": 63,
      "outputs": [
        {
          "output_type": "stream",
          "name": "stdout",
          "text": [
            "\u001b[31mF\u001b[0m\u001b[31m                                                                                            [100%]\u001b[0m\n",
            "============================================= FAILURES =============================================\n",
            "\u001b[31m\u001b[1m________________________________________ test_read_car_json ________________________________________\u001b[0m\n",
            "\n",
            "    \u001b[94mdef\u001b[39;49;00m \u001b[92mtest_read_car_json\u001b[39;49;00m():\n",
            "      len_expected = \u001b[94m406\u001b[39;49;00m\n",
            ">     your_json = open_car_json()\n",
            "\n",
            "\u001b[1m\u001b[31m<ipython-input-63-5253d588a633>\u001b[0m:4: \n",
            "_ _ _ _ _ _ _ _ _ _ _ _ _ _ _ _ _ _ _ _ _ _ _ _ _ _ _ _ _ _ _ _ _ _ _ _ _ _ _ _ _ _ _ _ _ _ _ _ _ _ \n",
            "\n",
            "    \u001b[94mdef\u001b[39;49;00m \u001b[92mopen_car_json\u001b[39;49;00m():\n",
            "      \u001b[33m\"\"\"\u001b[39;49;00m\n",
            "    \u001b[33m  This function seeks to open the file called\u001b[39;49;00m\n",
            "    \u001b[33m  \"cars.json\"\u001b[39;49;00m\n",
            "    \u001b[33m\u001b[39;49;00m\n",
            "    \u001b[33m  Return the JSON object as a dictionary\u001b[39;49;00m\n",
            "    \u001b[33m  \"\"\"\u001b[39;49;00m\n",
            "      \u001b[90m########## YOUR CODE HERE ##########\u001b[39;49;00m\n",
            "    \n",
            ">     \u001b[94mraise\u001b[39;49;00m \u001b[96mNotImplementedError\u001b[39;49;00m(\u001b[33m\"\u001b[39;49;00m\u001b[33mDid not implement open_car_json() function\u001b[39;49;00m\u001b[33m\"\u001b[39;49;00m)\n",
            "\u001b[1m\u001b[31mE     NotImplementedError: Did not implement open_car_json() function\u001b[0m\n",
            "\n",
            "\u001b[1m\u001b[31m<ipython-input-62-654683945ca7>\u001b[0m:10: NotImplementedError\n",
            "===================================== short test summary info ======================================\n",
            "FAILED tmpnqsowgx6.py::test_read_car_json - NotImplementedError: Did not implement open_car_json(...\n",
            "\u001b[31m\u001b[31m\u001b[1m1 failed\u001b[0m\u001b[31m in 0.05s\u001b[0m\u001b[0m\n"
          ]
        }
      ]
    },
    {
      "cell_type": "markdown",
      "metadata": {
        "id": "j0pWF_uSAftY"
      },
      "source": [
        "**Question 5:** Count the number of cars in the JSON file"
      ]
    },
    {
      "cell_type": "code",
      "metadata": {
        "id": "BoCNEQhvAl4y"
      },
      "source": [
        "def count_cars():\n",
        "  \"\"\"\n",
        "  This function aims to count the number of cars in the JSON file\n",
        "\n",
        "  Return the count\n",
        "  \"\"\"\n",
        "  ########## YOUR CODE HERE ##########\n",
        "\n",
        "  raise NotImplementedError(\"Did not implement open_cat_json() function\")\n",
        "\n",
        "  #####################################\n"
      ],
      "execution_count": 65,
      "outputs": []
    },
    {
      "cell_type": "code",
      "metadata": {
        "colab": {
          "base_uri": "https://localhost:8080/"
        },
        "id": "O5XpujCUV1Gy",
        "outputId": "2aef66c9-c658-49d7-d1c2-616f45fb53b4"
      },
      "source": [
        "%%ipytest\n",
        "def test_car_count():\n",
        "  expected = 406\n",
        "  assert count_cars() == expected"
      ],
      "execution_count": 66,
      "outputs": [
        {
          "output_type": "stream",
          "name": "stdout",
          "text": [
            "\u001b[31mF\u001b[0m\u001b[31m                                                                                            [100%]\u001b[0m\n",
            "============================================= FAILURES =============================================\n",
            "\u001b[31m\u001b[1m__________________________________________ test_car_count __________________________________________\u001b[0m\n",
            "\n",
            "    \u001b[94mdef\u001b[39;49;00m \u001b[92mtest_car_count\u001b[39;49;00m():\n",
            "      expected = \u001b[94m406\u001b[39;49;00m\n",
            ">     \u001b[94massert\u001b[39;49;00m count_cars() == expected\n",
            "\n",
            "\u001b[1m\u001b[31m<ipython-input-66-7a8578533db7>\u001b[0m:3: \n",
            "_ _ _ _ _ _ _ _ _ _ _ _ _ _ _ _ _ _ _ _ _ _ _ _ _ _ _ _ _ _ _ _ _ _ _ _ _ _ _ _ _ _ _ _ _ _ _ _ _ _ \n",
            "\n",
            "    \u001b[94mdef\u001b[39;49;00m \u001b[92mcount_cars\u001b[39;49;00m():\n",
            "      \u001b[33m\"\"\"\u001b[39;49;00m\n",
            "    \u001b[33m  This function aims to count the number of cars in the JSON file\u001b[39;49;00m\n",
            "    \u001b[33m\u001b[39;49;00m\n",
            "    \u001b[33m  Return the count\u001b[39;49;00m\n",
            "    \u001b[33m  \"\"\"\u001b[39;49;00m\n",
            "      \u001b[90m########## YOUR CODE HERE ##########\u001b[39;49;00m\n",
            "    \n",
            ">     \u001b[94mraise\u001b[39;49;00m \u001b[96mNotImplementedError\u001b[39;49;00m(\u001b[33m\"\u001b[39;49;00m\u001b[33mDid not implement open_cat_json() function\u001b[39;49;00m\u001b[33m\"\u001b[39;49;00m)\n",
            "\u001b[1m\u001b[31mE     NotImplementedError: Did not implement open_cat_json() function\u001b[0m\n",
            "\n",
            "\u001b[1m\u001b[31m<ipython-input-65-e4ec7748196e>\u001b[0m:9: NotImplementedError\n",
            "===================================== short test summary info ======================================\n",
            "FAILED tmphc6dz6e2.py::test_car_count - NotImplementedError: Did not implement open_cat_json() fu...\n",
            "\u001b[31m\u001b[31m\u001b[1m1 failed\u001b[0m\u001b[31m in 0.04s\u001b[0m\u001b[0m\n"
          ]
        }
      ]
    },
    {
      "cell_type": "markdown",
      "metadata": {
        "id": "3syd5q0hAt7t"
      },
      "source": [
        "**Question 6:** Return a JSON consisting of the number of cars by country. Your JSON file should contain each distinct country mapped to a count"
      ]
    },
    {
      "cell_type": "code",
      "metadata": {
        "id": "-HdwS38bBBq3"
      },
      "source": [
        "def count_by_country():\n",
        "  \"\"\"\n",
        "  Count the number of cars by country\n",
        "\n",
        "  Example return format: \n",
        "  {\"USA\": 50, \"Germany\": 25, \"Italy\": 10}\n",
        "\n",
        "  \"\"\"\n",
        "  ########## YOUR CODE HERE ##########\n",
        "\n",
        "  raise NotImplementedError(\"Did not implement open_cat_json() function\")\n",
        "\n",
        "  #####################################\n"
      ],
      "execution_count": null,
      "outputs": []
    },
    {
      "cell_type": "code",
      "metadata": {
        "id": "MfcH6F6bV8hN"
      },
      "source": [
        "%%ipytest\n",
        "\n",
        "def test_count_by_country():\n",
        "  pass"
      ],
      "execution_count": null,
      "outputs": []
    },
    {
      "cell_type": "markdown",
      "metadata": {
        "id": "KSGeSFVrBZ04"
      },
      "source": [
        "**Question 7:** Create a JSON file containing the name and acceleration of the car with the fastest acceleration. "
      ]
    },
    {
      "cell_type": "code",
      "metadata": {
        "id": "i__JUWXqBoLc"
      },
      "source": [
        "def fast_cars_by_year():\n",
        "  \"\"\"\n",
        "  Example Output FORMAT: \n",
        "  {1970: {\"name\": \"dodge challenger\", \"acceleration\": 10}, 1971: {\"name\": \"chevrolet monte carlo\", \"acceleration\": 9.5}, ...}\n",
        "  \"\"\"\n",
        "  ########## YOUR CODE HERE ##########\n",
        "\n",
        "  raise NotImplementedError(\"Did not implement open_cat_json() function\")\n",
        "\n",
        "  #####################################\n"
      ],
      "execution_count": null,
      "outputs": []
    },
    {
      "cell_type": "code",
      "metadata": {
        "id": "Kxvnb2LsWASr"
      },
      "source": [
        "%%ipytest\n",
        "\n",
        "def test_fast_cars_by_year():\n",
        "  "
      ],
      "execution_count": null,
      "outputs": []
    },
    {
      "cell_type": "markdown",
      "metadata": {
        "id": "QkPx4-wECgpC"
      },
      "source": [
        "**Question 8:** You are out shopping for a car. You don't want a really old, used car for the purpose of reliability and longevity, but you don't want to pay a lot for gasoline. Given a year threshold (eg: cars after 1985) and an MPG threshold (eg: 25 MPG), return a JSON consisting of cars that match the query. Make sure that cars that are made later are shown first (ie: if there is a 2005-11-19 and a 2005-11-21 that satisfy the criteria, your output should have the 2005-11-21 car and its attributes FIRST followed by the 2005-11-19 car and its attributes). Your JSON format should be very like the `cars.json` file you read in, except your output is filtered based on the query. "
      ]
    },
    {
      "cell_type": "code",
      "metadata": {
        "id": "sveedwAiBy2_"
      },
      "source": [
        "def car_search(year, mpg):\n",
        "  \"\"\"\n",
        "  This function simulates a search for a car (kind of like Car Finder or Car Max)\n",
        "\n",
        "  Given a year (ie: you want cars on or after some specified year) and an MPG (you want cars at least that MPG),\n",
        "\n",
        "  output a JSON consisting of cars that meet your criteria. Your JSON should be sorted in descending order by date\n",
        "  \"\"\"\n",
        "\n",
        "  ########## YOUR CODE HERE ##########\n",
        "\n",
        "  raise NotImplementedError(\"Did not implement open_cat_json() function\")\n",
        "\n",
        "  #####################################\n"
      ],
      "execution_count": null,
      "outputs": []
    },
    {
      "cell_type": "code",
      "metadata": {
        "id": "N9DTcQc8WDVy"
      },
      "source": [
        "%%ipytest\n",
        "\n",
        "@pytest.mark.parametrize(\"year, mpg, expected_result_count\", [\n",
        "                                                    \n",
        "])\n",
        "def test_car_search(year, mpg, expected_result_count):\n",
        "  pass"
      ],
      "execution_count": null,
      "outputs": []
    },
    {
      "cell_type": "markdown",
      "metadata": {
        "id": "v4r3tygHDlLu"
      },
      "source": [
        "##Extra Challenge"
      ]
    },
    {
      "cell_type": "markdown",
      "metadata": {
        "id": "DlPT-qQzDmVP"
      },
      "source": [
        "Take a problem of your interest (eg: sports, cars, stock market, etc). Find an API to scrape some data in the form of a JSON file. From that JSON file, identify something you want to know about that file (level of difficulty should be at least that of the above questions, but you CAN be as creative as you'd like). Implement code to help answer that question. Have fun with this exercise!"
      ]
    },
    {
      "cell_type": "code",
      "metadata": {
        "id": "vZ0SCt9xD_1g"
      },
      "source": [
        "#Put any import statements here"
      ],
      "execution_count": null,
      "outputs": []
    },
    {
      "cell_type": "code",
      "metadata": {
        "id": "HmQl_08PD9G4"
      },
      "source": [
        "def scrape_json():\n",
        "  \"\"\"\n",
        "  API code to get the JSON data\n",
        "  \"\"\""
      ],
      "execution_count": null,
      "outputs": []
    },
    {
      "cell_type": "markdown",
      "metadata": {
        "id": "YG9uuNXBEG5X"
      },
      "source": [
        "In this cell, describe the question you want to answer with your JSON data!"
      ]
    },
    {
      "cell_type": "code",
      "metadata": {
        "id": "Xs3xPXGUEBeL"
      },
      "source": [
        "def answer_question(dataset):\n",
        "  \"\"\"\n",
        "  Code to answer your question of interest\n",
        "  \"\"\""
      ],
      "execution_count": null,
      "outputs": []
    },
    {
      "cell_type": "code",
      "metadata": {
        "id": "LG3NHx8kETcY"
      },
      "source": [
        "def runner():\n",
        "  \"\"\"\n",
        "  Code to run your scraping algorithm + answer your question\n",
        "  \"\"\"\n",
        "  dataset = scrape_json()\n",
        "  answer_question(dataset)"
      ],
      "execution_count": null,
      "outputs": []
    }
  ]
}